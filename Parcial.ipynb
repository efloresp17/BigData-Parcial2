{
 "cells": [
  {
   "cell_type": "code",
   "execution_count": 1,
   "id": "9c252ff1",
   "metadata": {},
   "outputs": [],
   "source": [
    "# Importing required libraries\n",
    "import time\n",
    "\n",
    "from bs4 import BeautifulSoup\n",
    "from selenium import webdriver"
   ]
  },
  {
   "cell_type": "code",
   "execution_count": 2,
   "id": "1a42ec56",
   "metadata": {},
   "outputs": [],
   "source": [
    "# Base URL of the site to be analyzed\n",
    "SITE_URL = 'https://alianzaverde.org.co/lideres-verdes/congreso-2022/senado-2022'"
   ]
  },
  {
   "cell_type": "code",
   "execution_count": 3,
   "id": "025d2564",
   "metadata": {},
   "outputs": [],
   "source": [
    "# Firefox web driver path\n",
    "# Download the driver for you S.O. here: https://github.com/mozilla/geckodriver/releases\n",
    "DRIVER_PATH = './geckodriver.exe'"
   ]
  },
  {
   "cell_type": "code",
   "execution_count": 4,
   "id": "7e92c3bd",
   "metadata": {},
   "outputs": [
    {
     "name": "stderr",
     "output_type": "stream",
     "text": [
      "C:\\Users\\edins\\AppData\\Local\\Temp\\ipykernel_14712\\1910320475.py:2: DeprecationWarning: executable_path has been deprecated, please pass in a Service object\n",
      "  browser = webdriver.Firefox(executable_path = DRIVER_PATH)\n"
     ]
    }
   ],
   "source": [
    "# Creating a new firefox window\n",
    "browser = webdriver.Firefox(executable_path = DRIVER_PATH)"
   ]
  },
  {
   "cell_type": "code",
   "execution_count": 5,
   "id": "22aaf625",
   "metadata": {},
   "outputs": [],
   "source": [
    "def make_request(browser):\n",
    "    # Making the request and rendering the browser\n",
    "    browser.get(SITE_URL)\n",
    "    \n",
    "    # Simulating vertical scrolling for handling lazy load\n",
    "    check_height = browser.execute_script('return document.body.scrollHeight;')\n",
    "    while True:\n",
    "        browser.execute_script('window.scrollTo(0, document.body.scrollHeight);')\n",
    "        time.sleep(3)\n",
    "        height = browser.execute_script('return document.body.scrollHeight;')\n",
    "        if height == check_height: \n",
    "            break \n",
    "        check_height = height\n",
    "    \n",
    "    # Getting HTML content and passing it to BeautifulSoup for scraping analysis\n",
    "    return BeautifulSoup(browser.page_source, 'html.parser')"
   ]
  },
  {
   "cell_type": "code",
   "execution_count": 6,
   "id": "f95bac99",
   "metadata": {},
   "outputs": [],
   "source": [
    "soup = make_request(browser)"
   ]
  },
  {
   "cell_type": "code",
   "execution_count": 7,
   "id": "5b625d05",
   "metadata": {},
   "outputs": [
    {
     "name": "stdout",
     "output_type": "stream",
     "text": [
      "3\n"
     ]
    }
   ],
   "source": [
    "# Finding the section where news are contained \n",
    "layout = soup.find(class_ = 'main-body')\n",
    "print(len(layout))"
   ]
  },
  {
   "cell_type": "code",
   "execution_count": 8,
   "id": "6bff557a",
   "metadata": {},
   "outputs": [
    {
     "name": "stdout",
     "output_type": "stream",
     "text": [
      "9\n"
     ]
    }
   ],
   "source": [
    "# Getting blocks from layout\n",
    "blocks = layout.find_all(class_ = 'sppb-wow', recursive = True)\n",
    "print(len(blocks))"
   ]
  },
  {
   "cell_type": "code",
   "execution_count": 9,
   "id": "673a8e11",
   "metadata": {},
   "outputs": [
    {
     "ename": "NameError",
     "evalue": "name 'cards' is not defined",
     "output_type": "error",
     "traceback": [
      "\u001b[1;31m---------------------------------------------------------------------------\u001b[0m",
      "\u001b[1;31mNameError\u001b[0m                                 Traceback (most recent call last)",
      "Input \u001b[1;32mIn [9]\u001b[0m, in \u001b[0;36m<cell line: 2>\u001b[1;34m()\u001b[0m\n\u001b[0;32m      1\u001b[0m \u001b[38;5;66;03m# Finding and concatenating news cards\u001b[39;00m\n\u001b[1;32m----> 2\u001b[0m \u001b[43mcards\u001b[49m\n\u001b[0;32m      3\u001b[0m \u001b[38;5;28;01mfor\u001b[39;00m i \u001b[38;5;129;01min\u001b[39;00m \u001b[38;5;28mrange\u001b[39m(\u001b[38;5;28mlen\u001b[39m(blocks)):\n\u001b[0;32m      4\u001b[0m     cards \u001b[38;5;241m+\u001b[39m\u001b[38;5;241m=\u001b[39m blocks[i]\u001b[38;5;241m.\u001b[39mfind_all(class_ \u001b[38;5;241m=\u001b[39m \u001b[38;5;124m'\u001b[39m\u001b[38;5;124msppb-addon-person\u001b[39m\u001b[38;5;124m'\u001b[39m)\n",
      "\u001b[1;31mNameError\u001b[0m: name 'cards' is not defined"
     ]
    }
   ],
   "source": [
    "# Finding and concatenating news cards\n",
    "cards\n",
    "for i in range(len(blocks)):\n",
    "    cards += blocks[i].find_all(class_ = 'sppb-addon-person')\n",
    "len(cards)"
   ]
  },
  {
   "cell_type": "code",
   "execution_count": null,
   "id": "9b977fb5",
   "metadata": {},
   "outputs": [],
   "source": [
    "candidatos = []\n",
    "\n",
    "i = 0\n",
    "for card in cards: \n",
    "    redes_sociales = []\n",
    "    try:\n",
    "        redes = card.find(class_ = 'sppb-person-social').find_all('li')        \n",
    "        for x in range(len(redes)):\n",
    "            redes_sociales.append(redes[x].find('a')['href'])\n",
    "    except:\n",
    "        redes_sociales.append(\"No tiene redes\") \n",
    "    \n",
    "    #print(redes_sociales)\n",
    "    candidatos.append({\n",
    "        'Foto': card.find(class_ = 'sppb-person-image').find('img')['src'],\n",
    "        'Descripcion': card.find(class_ = 'sppb-person-designation').get_text(),\n",
    "        'Redes_Sociales': redes_sociales\n",
    "    })   \n",
    "    \n"
   ]
  },
  {
   "cell_type": "code",
   "execution_count": null,
   "id": "8011b9ac",
   "metadata": {},
   "outputs": [],
   "source": [
    "candidatos"
   ]
  },
  {
   "cell_type": "code",
   "execution_count": null,
   "id": "b02995c7",
   "metadata": {},
   "outputs": [],
   "source": []
  }
 ],
 "metadata": {
  "kernelspec": {
   "display_name": "Python 3 (ipykernel)",
   "language": "python",
   "name": "python3"
  },
  "language_info": {
   "codemirror_mode": {
    "name": "ipython",
    "version": 3
   },
   "file_extension": ".py",
   "mimetype": "text/x-python",
   "name": "python",
   "nbconvert_exporter": "python",
   "pygments_lexer": "ipython3",
   "version": "3.10.4"
  }
 },
 "nbformat": 4,
 "nbformat_minor": 5
}
