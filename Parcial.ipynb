{
 "cells": [
  {
   "cell_type": "code",
   "execution_count": 1,
   "id": "9c252ff1",
   "metadata": {},
   "outputs": [],
   "source": [
    "# Importing required libraries\n",
    "import time\n",
    "\n",
    "from bs4 import BeautifulSoup\n",
    "from selenium import webdriver"
   ]
  },
  {
   "cell_type": "code",
   "execution_count": 2,
   "id": "1a42ec56",
   "metadata": {},
   "outputs": [],
   "source": [
    "# Base URL of the site to be analyzed\n",
    "SITE_URL = 'https://alianzaverde.org.co/lideres-verdes/congreso-2022/senado-2022'"
   ]
  },
  {
   "cell_type": "code",
   "execution_count": 3,
   "id": "025d2564",
   "metadata": {},
   "outputs": [],
   "source": [
    "# Firefox web driver path\n",
    "# Download the driver for you S.O. here: https://github.com/mozilla/geckodriver/releases\n",
    "DRIVER_PATH = './geckodriver.exe'"
   ]
  },
  {
   "cell_type": "code",
   "execution_count": 4,
   "id": "7e92c3bd",
   "metadata": {},
   "outputs": [
    {
     "name": "stderr",
     "output_type": "stream",
     "text": [
      "C:\\Users\\edins\\AppData\\Local\\Temp\\ipykernel_14712\\1910320475.py:2: DeprecationWarning: executable_path has been deprecated, please pass in a Service object\n",
      "  browser = webdriver.Firefox(executable_path = DRIVER_PATH)\n"
     ]
    }
   ],
   "source": [
    "# Creating a new firefox window\n",
    "browser = webdriver.Firefox(executable_path = DRIVER_PATH)"
   ]
  },
  {
   "cell_type": "code",
   "execution_count": 5,
   "id": "22aaf625",
   "metadata": {},
   "outputs": [],
   "source": [
    "def make_request(browser):\n",
    "    # Making the request and rendering the browser\n",
    "    browser.get(SITE_URL)\n",
    "    \n",
    "    # Simulating vertical scrolling for handling lazy load\n",
    "    check_height = browser.execute_script('return document.body.scrollHeight;')\n",
    "    while True:\n",
    "        browser.execute_script('window.scrollTo(0, document.body.scrollHeight);')\n",
    "        time.sleep(3)\n",
    "        height = browser.execute_script('return document.body.scrollHeight;')\n",
    "        if height == check_height: \n",
    "            break \n",
    "        check_height = height\n",
    "    \n",
    "    # Getting HTML content and passing it to BeautifulSoup for scraping analysis\n",
    "    return BeautifulSoup(browser.page_source, 'html.parser')"
   ]
  },
  {
   "cell_type": "code",
   "execution_count": 6,
   "id": "f95bac99",
   "metadata": {},
   "outputs": [],
   "source": [
    "soup = make_request(browser)"
   ]
  },
  {
   "cell_type": "code",
   "execution_count": 7,
   "id": "55304b12",
   "metadata": {},
   "outputs": [
    {
     "name": "stdout",
     "output_type": "stream",
     "text": [
      "3\n"
     ]
    }
   ],
   "source": [
    "# Finding the section where news are contained \n",
    "layout = soup.find(class_ = 'main-body')\n",
    "print(len(layout))"
   ]
  },
  {
   "cell_type": "code",
   "execution_count": 8,
   "id": "99bc98f5",
   "metadata": {},
   "outputs": [
    {
     "name": "stdout",
     "output_type": "stream",
     "text": [
      "9\n"
     ]
    }
   ],
   "source": [
    "# Getting blocks from layout\n",
    "blocks = layout.find_all(class_ = 'sppb-wow', recursive = True)\n",
    "print(len(blocks))"
   ]
  },
  {
   "cell_type": "code",
   "execution_count": 12,
   "id": "92f41b3b",
   "metadata": {},
   "outputs": [
    {
     "data": {
      "text/plain": [
       "34"
      ]
     },
     "execution_count": 12,
     "metadata": {},
     "output_type": "execute_result"
    }
   ],
   "source": [
    "# Finding and concatenating news cards\n",
    "cards = []\n",
    "for i in range(len(blocks)):\n",
    "    cards += blocks[i].find_all(class_ = 'sppb-addon-person')\n",
    "len(cards)"
   ]
  },
  {
   "cell_type": "code",
   "execution_count": 13,
   "id": "21bb1c07",
   "metadata": {},
   "outputs": [],
   "source": [
    "candidatos = []\n",
    "\n",
    "i = 0\n",
    "for card in cards: \n",
    "    redes_sociales = []\n",
    "    try:\n",
    "        redes = card.find(class_ = 'sppb-person-social').find_all('li')        \n",
    "        for x in range(len(redes)):\n",
    "            redes_sociales.append(redes[x].find('a')['href'])\n",
    "    except:\n",
    "        redes_sociales.append(\"No tiene redes\") \n",
    "    \n",
    "    #print(redes_sociales)\n",
    "    candidatos.append({\n",
    "        'Foto': card.find(class_ = 'sppb-person-image').find('img')['src'],\n",
    "        'Descripcion': card.find(class_ = 'sppb-person-designation').get_text(),\n",
    "        'Redes_Sociales': redes_sociales\n",
    "    })   \n",
    "    \n"
   ]
  },
  {
   "cell_type": "code",
   "execution_count": 14,
   "id": "9a47dcbc",
   "metadata": {},
   "outputs": [
    {
     "data": {
      "text/plain": [
       "[{'Foto': '/images/Candidatos_2022/senado/2.jpg',\n",
       "  'Descripcion': 'Abogada y filósofa, con un máster en Ciencias de la Administración Pública, en Alemania. Experta en gestión pública, descentralización, transparencia, buen gobierno, modernización del estado, cultura ciudadana y cooperación internacional, temas en los cuales se ha desempeñado alternativamente como servidora pública, consultora y docente.',\n",
       "  'Redes_Sociales': ['https://twitter.com/VivianaBarbere ',\n",
       "   'https://twitter.com/VivianaBarbere',\n",
       "   'https://www.instagram.com/barberenaviviana/ ']},\n",
       " {'Foto': '/images/Candidatos_2022/senado/3.jpg',\n",
       "  'Descripcion': 'Nacida de seres excepcionales, en tiempos inciertos; es la mujer de retos resueltos. Desde el inicio de su carrera política, su liderazgo se enfoca en mantener la cultura de la equidad, la familia y el fortalecimiento económico, político y social de las regiones en Colombia',\n",
       "  'Redes_Sociales': ['https://www.facebook.com/sandraortizsenadora',\n",
       "   'https://twitter.com/sandraortizn',\n",
       "   'https://www.youtube.com/channel/UCTwjhE_bLZS72l0RqI_u4OQ/featured',\n",
       "   'https://www.instagram.com/sandraortizn']},\n",
       " {'Foto': '/images/Candidatos_2022/senado/5.jpg',\n",
       "  'Descripcion': 'Destacado Senador de la República en el año 2010 fue disciplinado y estricto en el cumplimiento de su función en la producción legislativa y el ejercicio del control político; en particular, participó de forma definitiva en los Proyectos de Ley y de Acto Legislativo trascendentales para el país.',\n",
       "  'Redes_Sociales': ['https://www.facebook.com/JorgeELondonoU/',\n",
       "   'https://twitter.com/JorgeELondonoU',\n",
       "   'https://youtube.com/user/JorgeLondonoUlloa',\n",
       "   'http://instagram.com/jorgeelondonou']},\n",
       " {'Foto': '/images/Candidatos_2022/senado/7.jpg',\n",
       "  'Descripcion': 'Egresado de la Facultad de Derecho de la Pontificia Universidad Javeriana; fue Diputado a la Asamblea de Cundinamarca, Concejal, Representante a la Cámara por Bogotá y Senador, además de ser fundador del Partido Alianza Verde. Correo de contacto',\n",
       "  'Redes_Sociales': ['https://www.facebook.com/SenadorIvanName ',\n",
       "   '/ https://twitter.com/IvanNameVasquez ',\n",
       "   'https://www.instagram.com/ivannamevasquez/ ']},\n",
       " {'Foto': '/images/Candidatos_2022/senado/8.jpg',\n",
       "  'Descripcion': 'Como congresista pertenece a la Comisión sexta, la comisión de paz y la Comisión de Derechos Humanos. Ha presentado iniciativas para reformar el sistema general de participaciones y la jornada laboral. Ha presentado proyectos de ley que fortalezcan la nutrición saludable, el internet gratuito, el financiamiento a los cuerpos de bomberos, la creación de las provincias, entre otras.',\n",
       "  'Redes_Sociales': ['https://www.facebook.com/Leonfredym',\n",
       "   'https://twitter.com/LeonFredyM ',\n",
       "   'https://www.instagram.com/leonfredymunozl']},\n",
       " {'Foto': '/images/Candidatos_2022/senado/10.jpg',\n",
       "  'Descripcion': 'Ciudadana, activista cívica, abogada y Senadora de 2018 a 2022 por el partido Alianza Verde. Representante a la Cámara por Bogotá en 2014 - 2018. Magíster en Gerencia y Práctica del Desarrollo en la Universidad de los Andes y becaria del Instituto Nacional Demócrata (NDI).',\n",
       "  'Redes_Sociales': ['https://www.facebook.com/angelicalozanocorrea/ ',\n",
       "   'https://twitter.com/AngelicaLozanoC ',\n",
       "   'https://www.youtube.com/user/bogotaserespeta',\n",
       "   'https://www.instagram.com/angelicalozano10/']},\n",
       " {'Foto': '/images/Candidatos_2022/senado/12.jpg',\n",
       "  'Descripcion': 'Nacida en Villa de Leyva Boyacá. Desde su infancia se caracterizó por el amor a su familia, solidaridad y capacidad de asumir retos. Ingeniera Industrial de la Universidad Pedagógica y Tecnológica de Colombia, con una Maestría en en pensamiento estratégico y perspectiva de la Universidad Externado de Colombia.',\n",
       "  'Redes_Sociales': ['/ https://www.facebook.com/karolina.jerez ',\n",
       "   'https://twitter.com/CaroEspitiaJ ',\n",
       "   'https://www.instagram.com/caroespitiaj/ ']},\n",
       " {'Foto': '/images/Candidatos_2022/senado/14.jpg',\n",
       "  'Descripcion': 'Profesora universitaria. Autora de varias publicaciones sobre derechos animales y justicia juvenil restaurativa (Beca de Investigación del Grupo Coímbra. Programa de Becas para Jóvenes Profesores e Investigadores de Universidades de América Latina, 2009). Columnista ocasional de varios medios de comunicación.',\n",
       "  'Redes_Sociales': ['https://www.facebook.com/andreanimalidad',\n",
       "   'https://twitter.com/andreanimalidad ',\n",
       "   'https://www.youtube.com/channel/UCnJ85DTEYtqUJ1o9wQLsbyA ',\n",
       "   'https://www.instagram.com/andreanimalidad']},\n",
       " {'Foto': '/images/Candidatos_2022/senado/18.jpg',\n",
       "  'Descripcion': 'Magíster en Gestión de la Tecnología Educativa. Ex presidente de Sindimaestros en Boyacá. Ex presidente de FECODE y actualmente Ejecutivo (tesorero)Dirigente estudiantil, sindical, social y político desde hace 32 años.',\n",
       "  'Redes_Sociales': ['https://www.facebook.com/nelson.alarconsuarez.16 ',\n",
       "   'https://twitter.com/Nelsonalarcon74 ',\n",
       "   'https://www.youtube.com/channel/UC0yGgG_Jj4cUa8kdv_J5n2w ',\n",
       "   'https://www.instagram.com/nelsonalarcon74/ ']},\n",
       " {'Foto': '/images/Candidatos_2022/senado/20.jpg',\n",
       "  'Descripcion': 'Nació en Pereira en 1946, el cuarto de once hermanos, en la época de la Violencia… cuando liberales y conservadores se mataban. Por eso desde pequeño sabe que lo más importante para el país es que las personas aprendamos a convivir, a dignificar la existencia humana.',\n",
       "  'Redes_Sociales': ['https://www.facebook.com/IvanMarulandaGomez',\n",
       "   'https://twitter.com/ivanmarulanda',\n",
       "   'https://www.youtube.com/c/IvánMarulandaGomezCo ',\n",
       "   'https://www.instagram.com/ivanmarulandagomez/ ']},\n",
       " {'Foto': '/images/Candidatos_2022/senado/22.jpg',\n",
       "  'Descripcion': 'Miembro de la Comisión Segunda del Senado y Co-Presidente de la Comisión de Paz. Sociólogo, Magíster en Desarrollo Regional de la Universidad de Los Andes y Doctor en Gobierno y Administración Pública de la Universidad Complutense de Madrid. Fue Concejal de Bogotá de 2008 a diciembre de 2017.',\n",
       "  'Redes_Sociales': ['https://www.facebook.com/antonio.sanguino.79 ',\n",
       "   'https://twitter.com/AntonioSanguino',\n",
       "   'https://www.youtube.com/channel/UC7yjLuIJdAaJXoIRDSEChHw ',\n",
       "   'https://www.instagram.com/antonio_sanguino ']},\n",
       " {'Foto': '/images/Candidatos_2022/senado/26.jpg',\n",
       "  'Descripcion': 'Líder ambiental de Piedecuesta, ha sido visible en el movimiento ambiental del departamento. Trabajó en la Alcaldía de Piedecuesta en la Oficina de Control Interno. Terminó materias de administración de empresas en la Universidad Cooperativa de Colombia, y es perito certificado por la Lonja de Propiedad horizontal, así como tecnólogo del Sena en mercado y venta de bienes inmuebles.',\n",
       "  'Redes_Sociales': ['https://www.facebook.com/fabiandiazcomunidad/ ',\n",
       "   'https://twitter.com/FabianDiazPlata ',\n",
       "   'https://instagram.com/fabiandiaz.plata ']},\n",
       " {'Foto': '/images/Candidatos_2022/senado/28.jpg',\n",
       "  'Descripcion': 'Abogada de la Universidad Nacional de Colombia, trabajó con la Rama Judicial y el Acueducto de Bogotá como asesora jurídica. Actualmente es abogada militante. Literaria y novelista con publicaciones de sus escritos. Trabaja con la cultura y la comunidad en asuntos sociales.',\n",
       "  'Redes_Sociales': ['https://www.facebook.com/PartidoAlianzaVerde']},\n",
       " {'Foto': '/images/Candidatos_2022/senado/30.jpg',\n",
       "  'Descripcion': 'Profesional en Gobierno y Relaciones internacionales con maestría en Desarrollo Regional y dos años de experiencia en en entidades de cooperación internacional y del Estado. Enfoque de trabajo en gobernanza, construcción de paz, transparencia y equidad de género.',\n",
       "  'Redes_Sociales': ['https://www.facebook.com/Linaarangorisaralda ',\n",
       "   'https://twitter.com/linamariaarango',\n",
       "   'https://www.instagram.com/linaarangosenadora/ ']},\n",
       " {'Foto': '/images/Candidatos_2022/senado/32.jpg',\n",
       "  'Descripcion': 'Activista estudiantil vinculado a las luchas agrarias de los campesinos por la tierra para quien la trabaja de la ANUC línea Sincelejo. Fundador de la Asociación de adjudicatarios de vivienda del ICT y UPAC, fue su Presidente, Miembro destacado del Consejo Nacional de los pueblos cívicos comunales y la Coordinadora de Vivienda Popular en los años 1980. Líder sindical de la subdirectiva sindical de Telecom en Montería Córdoba, Miembro vicepresidente de  Consejo de planeación territorial del Atlántico en la primera generación de consejeros con el nacimiento de la ley de participación territorial. ',\n",
       "  'Redes_Sociales': ['https://www.facebook.com/PartidoAlianzaVerde/']},\n",
       " {'Foto': '/images/Candidatos_2022/senado/34.jpg',\n",
       "  'Descripcion': 'Abogado de la Universidad de los Andes, especialista en Estado, Políticas públicas y Desarrollo. Activista social y medio ambiental. Autor del libro titulado “Agua” fiel creyente de los cambios a través del proceso democrático y participativo, basado en los principios progresistas.',\n",
       "  'Redes_Sociales': ['https://www.facebook.com/Frankcanossa ',\n",
       "   '/ https://twitter.com/canossafrank ',\n",
       "   'https://www.instagram.com/canossafrank/ ']},\n",
       " {'Foto': '/images/Candidatos_2022/senado/36.jpg',\n",
       "  'Descripcion': 'Abogado de la Universidad de los Andes, Especialista en Derecho, Magíster en Educación y en Derecho, Doctor en Derecho (PDH). INVESTIGADOR SENIOR RECONOCIDO POR MIN CIENCIAS. AUTOR DE DIFERENTES LIBROS EN ÁREAS EDUCATIVAS Y JURÍDICAS.',\n",
       "  'Redes_Sociales': ['https://www.facebook.com/js.perilla117',\n",
       "   'https://twitter.com/juansperilla ',\n",
       "   'https://www.instagram.com/juansperilla/ ']},\n",
       " {'Foto': '/images/Candidatos_2022/senado/38.jpg',\n",
       "  'Descripcion': 'Secretario de Educación del Departamento de Bolívar. -Primer Secretario de Educación del Distrito de Cartagena. Gobernador del Departamento de Bolívar, por elección popular. -Presidente del Consejo Superior de la Universidad de Cartagena. -Docente Especial Tiempo Completo- Escuela Superior de Administración Pública-ESAP. ',\n",
       "  'Redes_Sociales': ['/www.facebook.com/luis.d.sanchez.16',\n",
       "   'https://twitter.com/LuisDanieVargas',\n",
       "   'https://www.instagram.com/luisdvargass/']},\n",
       " {'Foto': '/images/Candidatos_2022/senado/40.jpg',\n",
       "  'Descripcion': 'Nacido en Samaná Caldas, estudió economía y comercio exterior en la Universidad de los Libertadores. Empresario enfocado en el sector inmobiliario.  Su apuesta está centrada en el sector campo.',\n",
       "  'Redes_Sociales': ['https://www.facebook.com/JorgeELondonoU/',\n",
       "   'https://twitter.com/JorgeELondonoU',\n",
       "   'https://youtube.com/user/JorgeLondonoUlloa',\n",
       "   'http://instagram.com/jorgeelondonou']},\n",
       " {'Foto': '/images/Candidatos_2022/senado/42.jpg',\n",
       "  'Descripcion': 'Bogotana, Abogada defensora de los derechos humanos, de la inclusión y diversidad, de los animales y el medio ambiente. Abogada litigante. Experiencia en Secretaría General de la Contraloría de  Cundinamarca, Personera Delegada para Protección a Víctimas, Personera Delegada para Seguridad y Convivencia, Directora y Subdirectora del Proceso de Responsabilidad Fiscal y Cobro Coactivo de la Contraloría de Bogotá.',\n",
       "  'Redes_Sociales': ['https://www.facebook.com/PartidoAlianzaVerde/']},\n",
       " {'Foto': '/images/Candidatos_2022/senado/44.jpg',\n",
       "  'Descripcion': 'Soy filósofa de la Universidad del Valle con Maestría en Estudios Políticos de la U. Javeriana, he ejercido la cátedra universitaria. Tengo una larga trayectoria como defensora de Derechos Humanos, y he desplegado un rico liderazgo social que me ha llevado a hacer contribuciones significativas al lado de los movimientos sociales y las víctimas del conflicto social y armado.',\n",
       "  'Redes_Sociales': ['https://www.facebook.com/liliasolanor',\n",
       "   'https://twitter.com/liliasolanor ',\n",
       "   'https://www.youtube.com/channel/UCv9HqVyXEOHWXmkwFINOOeA',\n",
       "   'https://www.instagram.com/liliasolanor/']},\n",
       " {'Foto': '/images/Candidatos_2022/senado/48.jpg',\n",
       "  'Descripcion': 'Economista, magíster en gobierno. Reconocido por su sentido social, responsable, honesto, innovador, creativo y social. Ha desarrollado proyectos comunitarios y gobernabilidad en más de 43 consejos comunitarios en el territorio ancestral del norte del Cauca.',\n",
       "  'Redes_Sociales': ['https://www.facebook.com/victorhugomorenom',\n",
       "   'https://twitter.com/VictorMorenoMin',\n",
       "   'https://www.youtube.com/channel/UCYM3_NTBTRheRYsJd2cLMgw']},\n",
       " {'Foto': '/images/Candidatos_2022/senado/52.jpg',\n",
       "  'Descripcion': 'Empresaria, consultora organizacional en procesos de transformación. Víctima del atentado de las Farc al Club El Nogal. Incapacitada durante 8+años. Fui mi propio laboratorio de Perdón y Reconciliación. Ayudo a sanar corazones de víctimas y victimarios. Dirijo Encuentros Transformadores entre diversos (30años).  Pienso crear la política pública para la Transformación y Reconciliación.',\n",
       "  'Redes_Sociales': ['https://www.youtube.com/channel/UC4S3hcMJV5jq4jXEs8Ltjow/videos',\n",
       "   'https://www.instagram.com/encuentrotransformador/']},\n",
       " {'Foto': '/images/Candidatos_2022/senado/54.jpg',\n",
       "  'Descripcion': 'Creador de contenido digital político, reconocido por google con la placa de oro. Activista y líder político en redes sociales.',\n",
       "  'Redes_Sociales': ['https://www.facebook.com/JotaPeHernandez',\n",
       "   'https://twitter.com/JotaPeHernandez',\n",
       "   'https://www.youtube.com/c/JotaPeHernandez',\n",
       "   'https://www.instagram.com/jotapehernandez/']},\n",
       " {'Foto': '/images/Candidatos_2022/senado/56.jpg',\n",
       "  'Descripcion': 'DALIA FERNANDA PINEDA',\n",
       "  'Redes_Sociales': ['https://twitter.com/JorgeELondonoU']},\n",
       " {'Foto': '/images/Candidatos_2022/senado/58.jpg',\n",
       "  'Descripcion': 'Abogado de la Universidad de Medellín, experto en derecho civil extracontractual y de tránsito. Creador del movimiento Sí Se Puede. ',\n",
       "  'Redes_Sociales': ['https://www.facebook.com/SiSePuedeHernanEcheverri',\n",
       "   'https://twitter.com/hernansisepuede',\n",
       "   'https://www.youtube.com/channel/UCsD8WQMHxyI46Mh7AE3xHpA',\n",
       "   'https://instagram.com/hernanecheverrisisepuede']},\n",
       " {'Foto': '/images/Candidatos_2022/senado/60.jpg',\n",
       "  'Descripcion': 'Ex concejal de Manizales por el Partido Alianza Verde, en donde ha liderado y tenido resultados alrededor de la defensa y protección de los animales, logrando posicionar a la ciudad de Manizales como ejemplo de región en el manejo de Fauna Doméstica.',\n",
       "  'Redes_Sociales': ['https://www.facebook.com/Hemayr.concejal ',\n",
       "   '/ https://twitter.com/Hemayr',\n",
       "   'https://www.instagram.com/hemayr.senador/']},\n",
       " {'Foto': '/images/Candidatos_2022/senado/62.jpg',\n",
       "  'Descripcion': 'Representante de los Usuarios del ICETEX y líder del movimiento el ICETEX TE ARRUINA. Desde el 2013 ha investigado las anomalías del modelo de financiación y ha aunado esfuerzos en el Congreso de la República para lograr 4 leyes que podrían beneficiar a más de 800 mil usuarios.',\n",
       "  'Redes_Sociales': ['https://www.facebook.com/icetextearruina/ ',\n",
       "   'https://twitter.com/danieltorres086 ',\n",
       "   'https://www.youtube.com/c/ICETEXTEARRUINA ']},\n",
       " {'Foto': '/images/Candidatos_2022/senado/64.jpg',\n",
       "  'Descripcion': 'Economista, Magíster en Economía de la Universidad Javeriana y especialista en Gobierno de la Universidad de Columbia de Nueva York. Desde hace 9 años es consultor de las Naciones Unidas en el tema de seguridad ciudadana.',\n",
       "  'Redes_Sociales': ['No tiene redes']},\n",
       " {'Foto': '/images/Candidatos_2022/senado/69.jpg',\n",
       "  'Descripcion': 'Politólogo, periodista. Ex subdirector de la fundación Paz y Reconciliación. Cuenta con más de 30 publicaciones.',\n",
       "  'Redes_Sociales': ['https://www.facebook.com/ArielAvilaAnaliza ',\n",
       "   'https://twitter.com/ArielAnaliza',\n",
       "   'https://www.youtube.com/c/ArielÁvilaAnaliza  ']},\n",
       " {'Foto': '/images/Candidatos_2022/senado/70.jpg',\n",
       "  'Descripcion': 'Comunicadora social y periodista, especializada en recursos humanos. Emprendedora del campo y productos orgánicos. Ambientalista por convicción, activista política y social.',\n",
       "  'Redes_Sociales': ['/www.facebook.com/adriana.prieto.7921',\n",
       "   'https://twitter.com/AdriPrietoYopal ',\n",
       "   'https://www.instagram.com/adrianaprietovargas/ ']},\n",
       " {'Foto': '/images/Candidatos_2022/senado/91.jpg',\n",
       "  'Descripcion': 'Arley Fernando Gómez',\n",
       "  'Redes_Sociales': ['https://www.facebook.com/ArleyFGomez ',\n",
       "   'https://twitter.com/ArleyFGomez ',\n",
       "   'https://www.instagram.com/arleyfernandogomez/ ']},\n",
       " {'Foto': '/images/Candidatos_2022/senado/98.jpg',\n",
       "  'Descripcion': 'Abogada, candidata a Magíster en D. con énfasis en DD.HH y justicia transicional. Especialista en derecho público, planeación estratégica urbana y Gerencia del Ambiente. Cuenta con más de 19 años de experiencia en el sector público, en el nivel directivo de entidades sociales y orientación a la garantía de los derechos humanos. ',\n",
       "  'Redes_Sociales': ['https://www.facebook.com/AmericaMillaresE/ ',\n",
       "   'https://twitter.com/amerikamillares ']},\n",
       " {'Foto': '/images/Candidatos_2022/senado/100.jpg',\n",
       "  'Descripcion': 'Desde el Congreso de la República ha liderado importantes debates de control político en los que ha mostrado su conocimiento y liderazgo en la defensa del medio ambiente y las comunidades vulnerables de la ciudad. ha trabajado por: Cierre del Relleno Sanitario Doña Juana, Defensa de la reserva ambiental Thomas Van del Hammen, Rechazo a la Ley 1801 de 2016 - Código de Policía, Defensa de los vendedores informales, Metro de Bogotá.',\n",
       "  'Redes_Sociales': ['https://www.facebook.com/intiasprilla ',\n",
       "   'https://twitter.com/intiasprilla ',\n",
       "   'https://www.youtube.com/c/IntiRa%C3%BAlAsprillaReyes ',\n",
       "   'https://www.instagram.com/intiasprilla/ ']}]"
      ]
     },
     "execution_count": 14,
     "metadata": {},
     "output_type": "execute_result"
    }
   ],
   "source": [
    "candidatos"
   ]
  },
  {
   "cell_type": "code",
   "execution_count": null,
   "id": "f846770c",
   "metadata": {},
   "outputs": [],
   "source": []
  }
 ],
 "metadata": {
  "kernelspec": {
   "display_name": "Python 3 (ipykernel)",
   "language": "python",
   "name": "python3"
  },
  "language_info": {
   "codemirror_mode": {
    "name": "ipython",
    "version": 3
   },
   "file_extension": ".py",
   "mimetype": "text/x-python",
   "name": "python",
   "nbconvert_exporter": "python",
   "pygments_lexer": "ipython3",
   "version": "3.10.4"
  }
 },
 "nbformat": 4,
 "nbformat_minor": 5
}
